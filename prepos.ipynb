{
 "cells": [
  {
   "cell_type": "code",
   "execution_count": 29,
   "id": "618c6815-46fc-4118-95fc-005f5396fc9d",
   "metadata": {},
   "outputs": [],
   "source": [
    "import pandas as pd\n",
    "import numpy as np\n"
   ]
  },
  {
   "cell_type": "code",
   "execution_count": 30,
   "id": "704bf6c4-6d9e-481c-9386-a87470239f28",
   "metadata": {},
   "outputs": [
    {
     "name": "stdout",
     "output_type": "stream",
     "text": [
      "<class 'pandas.core.frame.DataFrame'>\n",
      "RangeIndex: 5000 entries, 0 to 4999\n",
      "Data columns (total 7 columns):\n",
      " #   Column        Non-Null Count  Dtype  \n",
      "---  ------        --------------  -----  \n",
      " 0   id            5000 non-null   int64  \n",
      " 1   title         5000 non-null   object \n",
      " 2   release_date  5000 non-null   object \n",
      " 3   vote_average  5000 non-null   float64\n",
      " 4   genre_names   5000 non-null   object \n",
      " 5   duration      5000 non-null   int64  \n",
      " 6   description   5000 non-null   object \n",
      "dtypes: float64(1), int64(2), object(4)\n",
      "memory usage: 273.6+ KB\n"
     ]
    },
    {
     "data": {
      "text/html": [
       "<div>\n",
       "<style scoped>\n",
       "    .dataframe tbody tr th:only-of-type {\n",
       "        vertical-align: middle;\n",
       "    }\n",
       "\n",
       "    .dataframe tbody tr th {\n",
       "        vertical-align: top;\n",
       "    }\n",
       "\n",
       "    .dataframe thead th {\n",
       "        text-align: right;\n",
       "    }\n",
       "</style>\n",
       "<table border=\"1\" class=\"dataframe\">\n",
       "  <thead>\n",
       "    <tr style=\"text-align: right;\">\n",
       "      <th></th>\n",
       "      <th>id</th>\n",
       "      <th>title</th>\n",
       "      <th>release_date</th>\n",
       "      <th>vote_average</th>\n",
       "      <th>genre_names</th>\n",
       "      <th>duration</th>\n",
       "      <th>description</th>\n",
       "    </tr>\n",
       "  </thead>\n",
       "  <tbody>\n",
       "    <tr>\n",
       "      <th>0</th>\n",
       "      <td>1156593</td>\n",
       "      <td>Your Fault</td>\n",
       "      <td>2024-12-26</td>\n",
       "      <td>7.271</td>\n",
       "      <td>['Romance', 'Drama']</td>\n",
       "      <td>120</td>\n",
       "      <td>The love between Noah and Nick seems unwaverin...</td>\n",
       "    </tr>\n",
       "    <tr>\n",
       "      <th>1</th>\n",
       "      <td>558449</td>\n",
       "      <td>Gladiator II</td>\n",
       "      <td>2024-11-05</td>\n",
       "      <td>6.775</td>\n",
       "      <td>['Action', 'Adventure', 'Drama']</td>\n",
       "      <td>148</td>\n",
       "      <td>Years after witnessing the death of the revere...</td>\n",
       "    </tr>\n",
       "    <tr>\n",
       "      <th>2</th>\n",
       "      <td>845781</td>\n",
       "      <td>Red One</td>\n",
       "      <td>2024-10-31</td>\n",
       "      <td>7.032</td>\n",
       "      <td>['Action', 'Fantasy', 'Comedy']</td>\n",
       "      <td>124</td>\n",
       "      <td>After Santa Claus (codename: Red One) is kidna...</td>\n",
       "    </tr>\n",
       "    <tr>\n",
       "      <th>3</th>\n",
       "      <td>939243</td>\n",
       "      <td>Sonic the Hedgehog 3</td>\n",
       "      <td>2024-12-19</td>\n",
       "      <td>7.700</td>\n",
       "      <td>['Action', 'Science Fiction', 'Comedy', 'Family']</td>\n",
       "      <td>110</td>\n",
       "      <td>Sonic, Knuckles, and Tails reunite against a p...</td>\n",
       "    </tr>\n",
       "    <tr>\n",
       "      <th>4</th>\n",
       "      <td>912649</td>\n",
       "      <td>Venom: The Last Dance</td>\n",
       "      <td>2024-10-22</td>\n",
       "      <td>6.803</td>\n",
       "      <td>['Action', 'Science Fiction', 'Adventure', 'Th...</td>\n",
       "      <td>109</td>\n",
       "      <td>Eddie and Venom are on the run. Hunted by both...</td>\n",
       "    </tr>\n",
       "  </tbody>\n",
       "</table>\n",
       "</div>"
      ],
      "text/plain": [
       "        id                  title release_date  vote_average  \\\n",
       "0  1156593             Your Fault   2024-12-26         7.271   \n",
       "1   558449           Gladiator II   2024-11-05         6.775   \n",
       "2   845781                Red One   2024-10-31         7.032   \n",
       "3   939243   Sonic the Hedgehog 3   2024-12-19         7.700   \n",
       "4   912649  Venom: The Last Dance   2024-10-22         6.803   \n",
       "\n",
       "                                         genre_names  duration  \\\n",
       "0                               ['Romance', 'Drama']       120   \n",
       "1                   ['Action', 'Adventure', 'Drama']       148   \n",
       "2                    ['Action', 'Fantasy', 'Comedy']       124   \n",
       "3  ['Action', 'Science Fiction', 'Comedy', 'Family']       110   \n",
       "4  ['Action', 'Science Fiction', 'Adventure', 'Th...       109   \n",
       "\n",
       "                                         description  \n",
       "0  The love between Noah and Nick seems unwaverin...  \n",
       "1  Years after witnessing the death of the revere...  \n",
       "2  After Santa Claus (codename: Red One) is kidna...  \n",
       "3  Sonic, Knuckles, and Tails reunite against a p...  \n",
       "4  Eddie and Venom are on the run. Hunted by both...  "
      ]
     },
     "execution_count": 30,
     "metadata": {},
     "output_type": "execute_result"
    }
   ],
   "source": [
    "df = pd.read_csv (\"tmdb.csv\")\n",
    "df.info()\n",
    "df.head()"
   ]
  },
  {
   "cell_type": "code",
   "execution_count": 31,
   "id": "8cc31cd4-8882-4176-9b59-1cc9552f5199",
   "metadata": {},
   "outputs": [
    {
     "data": {
      "text/plain": [
       "id              0\n",
       "title           0\n",
       "release_date    0\n",
       "vote_average    0\n",
       "genre_names     0\n",
       "duration        0\n",
       "description     0\n",
       "dtype: int64"
      ]
     },
     "execution_count": 31,
     "metadata": {},
     "output_type": "execute_result"
    }
   ],
   "source": [
    "df.isnull().sum()"
   ]
  },
  {
   "cell_type": "code",
   "execution_count": 32,
   "id": "ce5ea219-43d3-4d33-8f2f-a730d35fe25f",
   "metadata": {},
   "outputs": [],
   "source": [
    "# Konversi ke tipe data yang sesuai\n",
    "df['release_date'] = pd.to_datetime(df['release_date'], errors='coerce')\n",
    "# Membersihkan teks\n",
    "df['description'] = df['description'].str.strip().str.lower()"
   ]
  },
  {
   "cell_type": "code",
   "execution_count": 33,
   "id": "ff095f36-7c52-4706-a121-21e473bd56a4",
   "metadata": {},
   "outputs": [
    {
     "name": "stdout",
     "output_type": "stream",
     "text": [
      "0                                 ['Romance', 'Drama']\n",
      "1                     ['Action', 'Adventure', 'Drama']\n",
      "2                      ['Action', 'Fantasy', 'Comedy']\n",
      "3    ['Action', 'Science Fiction', 'Comedy', 'Family']\n",
      "4    ['Action', 'Science Fiction', 'Adventure', 'Th...\n",
      "Name: genre_names, dtype: object\n",
      "['Romance', 'Drama']\n",
      "<class 'str'>\n"
     ]
    }
   ],
   "source": [
    "# Tampilkan contoh data genre_names\n",
    "print(df['genre_names'].head())\n",
    "print(df['genre_names'].iloc[0])  # Detail elemen pertama\n",
    "print(type(df['genre_names'].iloc[0]))  # Tipe data elemen pertama\n"
   ]
  },
  {
   "cell_type": "code",
   "execution_count": 34,
   "id": "c0e58b18-ce0f-41fc-a70c-b87962c3cf37",
   "metadata": {},
   "outputs": [],
   "source": [
    "import ast\n",
    "\n",
    "# Ubah string representasi list menjadi list Python\n",
    "df['genre_names'] = df['genre_names'].apply(lambda x: ast.literal_eval(x) if isinstance(x, str) else x)\n"
   ]
  },
  {
   "cell_type": "code",
   "execution_count": 35,
   "id": "ea0776d0-26da-4824-886e-2b238df477b2",
   "metadata": {},
   "outputs": [
    {
     "name": "stdout",
     "output_type": "stream",
     "text": [
      "0                                  [Romance, Drama]\n",
      "1                        [Action, Adventure, Drama]\n",
      "2                         [Action, Fantasy, Comedy]\n",
      "3         [Action, Science Fiction, Comedy, Family]\n",
      "4    [Action, Science Fiction, Adventure, Thriller]\n",
      "Name: genre_names, dtype: object\n",
      "['Romance', 'Drama']\n",
      "<class 'list'>\n"
     ]
    }
   ],
   "source": [
    "print(df['genre_names'].head())\n",
    "print(df['genre_names'].iloc[0])  # Detail elemen pertama\n",
    "print(type(df['genre_names'].iloc[0]))  # Tipe data elemen pertama\n"
   ]
  },
  {
   "cell_type": "code",
   "execution_count": 36,
   "id": "ec041968-6fcc-41a9-b968-1b1491664ae8",
   "metadata": {},
   "outputs": [
    {
     "data": {
      "text/html": [
       "<div>\n",
       "<style scoped>\n",
       "    .dataframe tbody tr th:only-of-type {\n",
       "        vertical-align: middle;\n",
       "    }\n",
       "\n",
       "    .dataframe tbody tr th {\n",
       "        vertical-align: top;\n",
       "    }\n",
       "\n",
       "    .dataframe thead th {\n",
       "        text-align: right;\n",
       "    }\n",
       "</style>\n",
       "<table border=\"1\" class=\"dataframe\">\n",
       "  <thead>\n",
       "    <tr style=\"text-align: right;\">\n",
       "      <th></th>\n",
       "      <th>id</th>\n",
       "      <th>title</th>\n",
       "      <th>release_date</th>\n",
       "      <th>vote_average</th>\n",
       "      <th>genre_names</th>\n",
       "      <th>duration</th>\n",
       "      <th>description</th>\n",
       "    </tr>\n",
       "  </thead>\n",
       "  <tbody>\n",
       "    <tr>\n",
       "      <th>0</th>\n",
       "      <td>1156593</td>\n",
       "      <td>Your Fault</td>\n",
       "      <td>2024-12-26</td>\n",
       "      <td>7.271</td>\n",
       "      <td>[Romance, Drama]</td>\n",
       "      <td>120</td>\n",
       "      <td>the love between noah and nick seems unwaverin...</td>\n",
       "    </tr>\n",
       "    <tr>\n",
       "      <th>1</th>\n",
       "      <td>558449</td>\n",
       "      <td>Gladiator II</td>\n",
       "      <td>2024-11-05</td>\n",
       "      <td>6.775</td>\n",
       "      <td>[Action, Adventure, Drama]</td>\n",
       "      <td>148</td>\n",
       "      <td>years after witnessing the death of the revere...</td>\n",
       "    </tr>\n",
       "    <tr>\n",
       "      <th>2</th>\n",
       "      <td>845781</td>\n",
       "      <td>Red One</td>\n",
       "      <td>2024-10-31</td>\n",
       "      <td>7.032</td>\n",
       "      <td>[Action, Fantasy, Comedy]</td>\n",
       "      <td>124</td>\n",
       "      <td>after santa claus (codename: red one) is kidna...</td>\n",
       "    </tr>\n",
       "    <tr>\n",
       "      <th>3</th>\n",
       "      <td>939243</td>\n",
       "      <td>Sonic the Hedgehog 3</td>\n",
       "      <td>2024-12-19</td>\n",
       "      <td>7.700</td>\n",
       "      <td>[Action, Science Fiction, Comedy, Family]</td>\n",
       "      <td>110</td>\n",
       "      <td>sonic, knuckles, and tails reunite against a p...</td>\n",
       "    </tr>\n",
       "    <tr>\n",
       "      <th>4</th>\n",
       "      <td>912649</td>\n",
       "      <td>Venom: The Last Dance</td>\n",
       "      <td>2024-10-22</td>\n",
       "      <td>6.803</td>\n",
       "      <td>[Action, Science Fiction, Adventure, Thriller]</td>\n",
       "      <td>109</td>\n",
       "      <td>eddie and venom are on the run. hunted by both...</td>\n",
       "    </tr>\n",
       "  </tbody>\n",
       "</table>\n",
       "</div>"
      ],
      "text/plain": [
       "        id                  title release_date  vote_average  \\\n",
       "0  1156593             Your Fault   2024-12-26         7.271   \n",
       "1   558449           Gladiator II   2024-11-05         6.775   \n",
       "2   845781                Red One   2024-10-31         7.032   \n",
       "3   939243   Sonic the Hedgehog 3   2024-12-19         7.700   \n",
       "4   912649  Venom: The Last Dance   2024-10-22         6.803   \n",
       "\n",
       "                                      genre_names  duration  \\\n",
       "0                                [Romance, Drama]       120   \n",
       "1                      [Action, Adventure, Drama]       148   \n",
       "2                       [Action, Fantasy, Comedy]       124   \n",
       "3       [Action, Science Fiction, Comedy, Family]       110   \n",
       "4  [Action, Science Fiction, Adventure, Thriller]       109   \n",
       "\n",
       "                                         description  \n",
       "0  the love between noah and nick seems unwaverin...  \n",
       "1  years after witnessing the death of the revere...  \n",
       "2  after santa claus (codename: red one) is kidna...  \n",
       "3  sonic, knuckles, and tails reunite against a p...  \n",
       "4  eddie and venom are on the run. hunted by both...  "
      ]
     },
     "execution_count": 36,
     "metadata": {},
     "output_type": "execute_result"
    }
   ],
   "source": [
    "df.head()"
   ]
  },
  {
   "cell_type": "code",
   "execution_count": 37,
   "id": "f1c99089-2f74-49ab-b408-dde243a3fe75",
   "metadata": {},
   "outputs": [
    {
     "name": "stdout",
     "output_type": "stream",
     "text": [
      "   Action  Adventure  Animation  Comedy  Crime  Drama  Family  Fantasy  \\\n",
      "0   False      False      False   False  False   True   False    False   \n",
      "1    True       True      False   False  False   True   False    False   \n",
      "2    True      False      False    True  False  False   False     True   \n",
      "3    True      False      False    True  False  False    True    False   \n",
      "4    True       True      False   False  False  False   False    False   \n",
      "\n",
      "   Horror  Music  Romance  Science Fiction  Thriller  \n",
      "0   False  False     True            False     False  \n",
      "1   False  False    False            False     False  \n",
      "2   False  False    False            False     False  \n",
      "3   False  False    False             True     False  \n",
      "4   False  False    False             True      True  \n"
     ]
    }
   ],
   "source": [
    "from mlxtend.preprocessing import TransactionEncoder\n",
    "# One-Hot Encoding untuk genre\n",
    "transactions = df['genre_names'].tolist()\n",
    "te = TransactionEncoder()\n",
    "te_data = te.fit(transactions).transform(transactions)\n",
    "genre_encoded = pd.DataFrame(te_data, columns=te.columns_)\n",
    "\n",
    "# Gabungkan dengan DataFrame utama\n",
    "df = pd.concat([df, genre_encoded], axis=1)\n",
    "\n",
    "print(genre_encoded.head())"
   ]
  },
  {
   "cell_type": "code",
   "execution_count": 38,
   "id": "783dac57-da58-413e-8639-173bd75f46e2",
   "metadata": {},
   "outputs": [
    {
     "name": "stdout",
     "output_type": "stream",
     "text": [
      "    support                                        itemsets\n",
      "0      0.65                                        (Action)\n",
      "1      0.30                                     (Adventure)\n",
      "2      0.20                                     (Animation)\n",
      "3      0.20                                        (Comedy)\n",
      "4      0.10                                         (Crime)\n",
      "..      ...                                             ...\n",
      "76     0.05  (Action, Adventure, Thriller, Science Fiction)\n",
      "77     0.05    (Action, Family, Science Fiction, Animation)\n",
      "78     0.05       (Comedy, Action, Family, Science Fiction)\n",
      "79     0.05          (Comedy, Family, Adventure, Animation)\n",
      "80     0.05           (Family, Adventure, Music, Animation)\n",
      "\n",
      "[81 rows x 2 columns]\n"
     ]
    }
   ],
   "source": [
    "from mlxtend.frequent_patterns import apriori\n",
    "\n",
    "# Menemukan frequent itemsets\n",
    "frequent_itemsets = apriori(genre_encoded, min_support=0.01, use_colnames=True)\n",
    "print(frequent_itemsets)"
   ]
  },
  {
   "cell_type": "code",
   "execution_count": 39,
   "id": "b2275a72-8546-455b-8741-c4085a2aadaf",
   "metadata": {},
   "outputs": [
    {
     "name": "stdout",
     "output_type": "stream",
     "text": [
      "            antecedents                     consequents  support  confidence  \\\n",
      "0              (Action)                     (Adventure)     0.20    0.307692   \n",
      "1           (Adventure)                        (Action)     0.20    0.666667   \n",
      "2              (Action)                     (Animation)     0.10    0.153846   \n",
      "3           (Animation)                        (Action)     0.10    0.500000   \n",
      "4              (Comedy)                        (Action)     0.15    0.750000   \n",
      "..                  ...                             ...      ...         ...   \n",
      "297  (Music, Animation)             (Adventure, Family)     0.05    1.000000   \n",
      "298            (Family)   (Adventure, Music, Animation)     0.05    0.250000   \n",
      "299         (Adventure)      (Family, Music, Animation)     0.05    0.166667   \n",
      "300             (Music)  (Adventure, Family, Animation)     0.05    1.000000   \n",
      "301         (Animation)      (Adventure, Family, Music)     0.05    0.250000   \n",
      "\n",
      "          lift  \n",
      "0     1.025641  \n",
      "1     1.025641  \n",
      "2     0.769231  \n",
      "3     0.769231  \n",
      "4     1.153846  \n",
      "..         ...  \n",
      "297  10.000000  \n",
      "298   5.000000  \n",
      "299   3.333333  \n",
      "300  10.000000  \n",
      "301   5.000000  \n",
      "\n",
      "[302 rows x 5 columns]\n"
     ]
    }
   ],
   "source": [
    "from mlxtend.frequent_patterns import association_rules\n",
    "\n",
    "# Menemukan association rules dengan lift sebagai metrik\n",
    "rules = association_rules(frequent_itemsets, metric='confidence',min_threshold=0.1)\n",
    "\n",
    "# Menampilkan aturan asosiasi\n",
    "print(rules[['antecedents', 'consequents', 'support', 'confidence', 'lift']])\n"
   ]
  },
  {
   "cell_type": "code",
   "execution_count": 40,
   "id": "4749b22d-4f25-43f8-bc5d-4cd3f0980bb7",
   "metadata": {},
   "outputs": [
    {
     "name": "stdout",
     "output_type": "stream",
     "text": [
      "        id                  title release_date  vote_average  \\\n",
      "0  1156593             Your Fault   2024-12-26         7.271   \n",
      "1   558449           Gladiator II   2024-11-05         6.775   \n",
      "2   845781                Red One   2024-10-31         7.032   \n",
      "3   939243   Sonic the Hedgehog 3   2024-12-19         7.700   \n",
      "4   912649  Venom: The Last Dance   2024-10-22         6.803   \n",
      "\n",
      "                                      genre_names  duration  \\\n",
      "0                                [Romance, Drama]       120   \n",
      "1                      [Action, Adventure, Drama]       148   \n",
      "2                       [Action, Fantasy, Comedy]       124   \n",
      "3       [Action, Science Fiction, Comedy, Family]       110   \n",
      "4  [Action, Science Fiction, Adventure, Thriller]       109   \n",
      "\n",
      "                                         description  Action  Adventure  \\\n",
      "0  the love between noah and nick seems unwaverin...   False      False   \n",
      "1  years after witnessing the death of the revere...    True       True   \n",
      "2  after santa claus (codename: red one) is kidna...    True      False   \n",
      "3  sonic, knuckles, and tails reunite against a p...    True      False   \n",
      "4  eddie and venom are on the run. hunted by both...    True       True   \n",
      "\n",
      "   Animation  ...  Comedy  Crime  Drama  Family  Fantasy  Horror  Music  \\\n",
      "0      False  ...       0      0      1       0        0       0      0   \n",
      "1      False  ...       0      0      1       0        0       0      0   \n",
      "2      False  ...       1      0      0       0        1       0      0   \n",
      "3      False  ...       1      0      0       1        0       0      0   \n",
      "4      False  ...       0      0      0       0        0       0      0   \n",
      "\n",
      "   Romance  Science Fiction  Thriller  \n",
      "0        1                0         0  \n",
      "1        0                0         0  \n",
      "2        0                0         0  \n",
      "3        0                1         0  \n",
      "4        0                1         1  \n",
      "\n",
      "[5 rows x 33 columns]\n"
     ]
    }
   ],
   "source": [
    "from sklearn.preprocessing import MultiLabelBinarizer\n",
    "\n",
    "# MultiLabelBinarizer untuk one-hot encode genre\n",
    "mlb = MultiLabelBinarizer()\n",
    "\n",
    "# One-hot encoding genre_names\n",
    "genre_encoded = mlb.fit_transform(df['genre_names'])\n",
    "\n",
    "# Mengubah menjadi DataFrame dengan nama kolom yang sesuai\n",
    "genre_df = pd.DataFrame(genre_encoded, columns=mlb.classes_)\n",
    "\n",
    "# Gabungkan dengan data asli\n",
    "df = pd.concat([df, genre_df], axis=1)\n",
    "\n",
    "# Menampilkan DataFrame yang sudah memiliki kolom genre terencode\n",
    "print(df.head())\n"
   ]
  },
  {
   "cell_type": "code",
   "execution_count": 41,
   "id": "ce5b098e-0ec6-40af-8255-31a788ff122b",
   "metadata": {},
   "outputs": [
    {
     "name": "stdout",
     "output_type": "stream",
     "text": [
      "X_train shape: (4000, 26)\n",
      "X_test shape: (1000, 26)\n",
      "y_train shape: (4000,)\n",
      "y_test shape: (1000,)\n"
     ]
    }
   ],
   "source": [
    "from sklearn.model_selection import train_test_split\n",
    "\n",
    "# Pisahkan data menjadi fitur dan target\n",
    "x = df[mlb.classes_]  # Fitur berdasarkan genre\n",
    "y = df['vote_average']  # Target (rating)\n",
    "\n",
    "# Bagi data menjadi training dan testing\n",
    "x_train, x_test, y_train, y_test = train_test_split(x, y, test_size=0.2, random_state=42)\n",
    "\n",
    "# Menampilkan bentuk data\n",
    "print(f\"X_train shape: {x_train.shape}\")\n",
    "print(f\"X_test shape: {x_test.shape}\")\n",
    "print(f\"y_train shape: {y_train.shape}\")\n",
    "print(f\"y_test shape: {y_test.shape}\")\n"
   ]
  },
  {
   "cell_type": "code",
   "execution_count": 42,
   "id": "f321c08f-3909-49a6-89a5-daaa7ff31380",
   "metadata": {},
   "outputs": [
    {
     "name": "stdout",
     "output_type": "stream",
     "text": [
      "Setelah align - X_train shape: (4000, 26)\n",
      "Setelah align - X_test shape: (1000, 26)\n"
     ]
    }
   ],
   "source": [
    "# Menyusun ulang X_train dan X_test agar memiliki kolom yang sama\n",
    "x_train, x_test = x_train.align(x_test, join='outer', axis=1, fill_value=0)\n",
    "\n",
    "# Menampilkan bentuk data setelah align\n",
    "print(f\"Setelah align - X_train shape: {x_train.shape}\")\n",
    "print(f\"Setelah align - X_test shape: {x_test.shape}\")"
   ]
  },
  {
   "cell_type": "code",
   "execution_count": 43,
   "id": "13a995f7-672c-4878-9853-5b8be47e149e",
   "metadata": {},
   "outputs": [
    {
     "name": "stdout",
     "output_type": "stream",
     "text": [
      "MAE: 0.039313518751274215\n",
      "MSE: 0.010090918681404258\n",
      "R2: 0.9769398883590507\n"
     ]
    }
   ],
   "source": [
    "from sklearn.ensemble import RandomForestRegressor\n",
    "\n",
    "# Inisialisasi model RandomForest\n",
    "model = RandomForestRegressor(n_estimators=100, random_state=42)\n",
    "\n",
    "# Latih model dengan data training\n",
    "model.fit(x_train, y_train)\n",
    "\n",
    "# Prediksi rating menggunakan data testing\n",
    "y_pred = model.predict(x_test)\n",
    "\n",
    "# Evaluasi model\n",
    "from sklearn.metrics import mean_absolute_error, mean_squared_error, r2_score\n",
    "\n",
    "# Menghitung evaluasi\n",
    "mae = mean_absolute_error(y_test, y_pred)\n",
    "mse = mean_squared_error(y_test, y_pred)\n",
    "r2 = r2_score(y_test, y_pred)\n",
    "\n",
    "print(f\"MAE: {mae}\")\n",
    "print(f\"MSE: {mse}\")\n",
    "print(f\"R2: {r2}\")\n"
   ]
  },
  {
   "cell_type": "code",
   "execution_count": 44,
   "id": "b6478d8b-37c6-4dfd-b2ce-6005238ff90e",
   "metadata": {},
   "outputs": [
    {
     "name": "stdout",
     "output_type": "stream",
     "text": [
      "Predicted Rating: 6.774999999999989\n"
     ]
    }
   ],
   "source": [
    "def predict_rating(new_genre, mlb, model, x_train):\n",
    "    \"\"\"\n",
    "    Memprediksi rating berdasarkan genre baru.\n",
    "    \"\"\"\n",
    "    # Validasi genre baru\n",
    "    invalid_genres = [genre for genre in new_genre if genre not in mlb.classes_]\n",
    "    if invalid_genres:\n",
    "        raise ValueError(f\"Genre tidak valid: {', '.join(invalid_genres)}\")\n",
    "\n",
    "    # One-hot encoding genre baru\n",
    "    new_genre_encoded = pd.DataFrame(mlb.transform([new_genre]), columns=mlb.classes_)\n",
    "\n",
    "    # Reindex agar cocok dengan X_train\n",
    "    new_genre_encoded = new_genre_encoded.reindex(columns=x_train.columns, fill_value=0)\n",
    "\n",
    "    # Prediksi rating\n",
    "    predicted_rating = model.predict(new_genre_encoded)\n",
    "    return predicted_rating[0]\n",
    "    \n",
    "new_genre = ['Action', 'Adventure', 'Drama','Crime']\n",
    "try:\n",
    "    rating = predict_rating(new_genre, mlb, model, x_train)\n",
    "    print(f\"Predicted Rating: {rating}\")\n",
    "except ValueError as e:\n",
    "    print(e)\n"
   ]
  },
  {
   "cell_type": "code",
   "execution_count": 45,
   "id": "e1330c49-14ea-480b-ac80-8dced6dd0867",
   "metadata": {},
   "outputs": [],
   "source": [
    "def recommend_movies_with_association(selected_genres, df, rules, mlb, top_n=5):\n",
    "    \"\"\"\n",
    "    Memberikan rekomendasi film berdasarkan genre yang dimasukkan,\n",
    "    termasuk mempertimbangkan genre tambahan dari aturan asosiasi.\n",
    "\n",
    "    Parameters:\n",
    "    - selected_genres (list): Genre yang dimasukkan pengguna.\n",
    "    - df (pd.DataFrame): DataFrame utama yang memuat informasi film.\n",
    "    - rules (pd.DataFrame): DataFrame aturan asosiasi.\n",
    "    - mlb (MultiLabelBinarizer): MultiLabelBinarizer untuk genre.\n",
    "    - top_n (int): Jumlah rekomendasi yang diinginkan.\n",
    "\n",
    "    Returns:\n",
    "    - pd.DataFrame: DataFrame dengan informasi rekomendasi film.\n",
    "    \"\"\"\n",
    "    # Validasi genre\n",
    "    invalid_genres = [genre for genre in selected_genres if genre not in mlb.classes_]\n",
    "    if invalid_genres:\n",
    "        raise ValueError(f\"Genre tidak valid: {', '.join(invalid_genres)}\")\n",
    "\n",
    "    # Temukan genre tambahan berdasarkan aturan asosiasi\n",
    "    additional_genres = set()\n",
    "    for genre in selected_genres:\n",
    "        # Temukan aturan asosiasi dengan genre sebagai antecedent\n",
    "        matched_rules = rules[rules['antecedents'].apply(lambda x: genre in x)]\n",
    "        # Tambahkan semua consequents dari aturan yang cocok\n",
    "        for consequents in matched_rules['consequents']:\n",
    "            additional_genres.update(consequents)\n",
    "\n",
    "    # Gabungkan genre asli dengan genre tambahan\n",
    "    all_genres = set(selected_genres).union(additional_genres)\n",
    "\n",
    "    # Filter film yang memiliki semua genre dalam 'all_genres'\n",
    "    mask = df['genre_names'].apply(lambda x: all(genre in x for genre in all_genres))\n",
    "    filtered_movies = df[mask]\n",
    "\n",
    "    # Urutkan berdasarkan rating tertinggi\n",
    "    recommended_movies = filtered_movies.sort_values(by='vote_average', ascending=False)\n",
    "\n",
    "    # Pilih hanya kolom yang relevan\n",
    "    return recommended_movies[['title', 'release_date', 'vote_average', 'duration', 'description']].head(top_n)\n"
   ]
  },
  {
   "cell_type": "code",
   "execution_count": 46,
   "id": "397ffaea-d536-4677-96aa-587b1504da95",
   "metadata": {},
   "outputs": [
    {
     "name": "stdout",
     "output_type": "stream",
     "text": [
      "X_train columns saved successfully\n",
      "encorder save successflly\n",
      "ekplorasi save successflly\n",
      "Model save successflly\n"
     ]
    }
   ],
   "source": [
    "import pickle\n",
    "\n",
    "# Simpan kolom X_train\n",
    "filename = 'x_train_columns1.sav'\n",
    "pickle.dump(x_train.columns, open(filename, 'wb'))\n",
    "print(\"X_train columns saved successfully\")\n",
    "\n",
    "filename = 'encorder1.sav'\n",
    "pickle.dump(mlb, open(filename,'wb'))\n",
    "print (\"encorder save successflly\")\n",
    "\n",
    "filename = 'ekplorasi1.sav'\n",
    "pickle.dump(rules, open(filename,'wb'))\n",
    "print (\"ekplorasi save successflly\")\n",
    "\n",
    "filename = 'prediksi_model1.sav'\n",
    "pickle.dump(model, open(filename,'wb'))\n",
    "print (\"Model save successflly\")\n"
   ]
  },
  {
   "cell_type": "code",
   "execution_count": null,
   "id": "6733c7df-34a3-4de2-8e7b-a6c680322a70",
   "metadata": {},
   "outputs": [],
   "source": []
  }
 ],
 "metadata": {
  "kernelspec": {
   "display_name": "Python 3 (ipykernel)",
   "language": "python",
   "name": "python3"
  },
  "language_info": {
   "codemirror_mode": {
    "name": "ipython",
    "version": 3
   },
   "file_extension": ".py",
   "mimetype": "text/x-python",
   "name": "python",
   "nbconvert_exporter": "python",
   "pygments_lexer": "ipython3",
   "version": "3.13.1"
  }
 },
 "nbformat": 4,
 "nbformat_minor": 5
}
